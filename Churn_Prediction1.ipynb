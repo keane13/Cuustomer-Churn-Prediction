{
  "cells": [
    {
      "cell_type": "markdown",
      "id": "a059039a",
      "metadata": {
        "id": "a059039a"
      },
      "source": [
        "#  Churn Prediction "
      ]
    },
    {
      "cell_type": "markdown",
      "source": [
        "Nowadays, industry faces fierce com-petition in satisfying its customers. The role of churn prediction system is not only restricted to accurately predict churners but also to interpret customer churn behavior. In this Project we will predict amount of churn where '1' indicates Churn and '0' indicates stay.We will build this using AWS Sagemaker Notebook environment.\n",
        "Outline:\n",
        "\n",
        "1. Data Extraction\n",
        "2. Data Visualisation\n",
        "3. Data Preprocessing\n",
        "4. Data Modeling\n",
        "5. Performance"
      ],
      "metadata": {
        "id": "qHOCa7rShT7P"
      },
      "id": "qHOCa7rShT7P"
    },
    {
      "cell_type": "markdown",
      "source": [
        "## 1. Data Extraction"
      ],
      "metadata": {
        "id": "IrZ3VaYmiTs5"
      },
      "id": "IrZ3VaYmiTs5"
    },
    {
      "cell_type": "code",
      "execution_count": null,
      "id": "cdfdd894",
      "metadata": {
        "id": "cdfdd894"
      },
      "outputs": [],
      "source": [
        "import os, sagemaker,boto3, math, sys,json, urllib.request\n",
        "import numpy as np\n",
        "import pandas as pd\n",
        "import seaborn as sn\n",
        "import matplotlib.pyplot as plt\n",
        "from sagemaker import get_execution_role\n",
        "from IPython.display import Image\n",
        "from IPython.display import display\n",
        "from sagemaker.predictor import csv_serializer\n",
        "from sklearn.ensemble import RandomForestClassifier, AdaBoostClassifier,  GradientBoostingClassifier, ExtraTreesClassifier\n",
        "from sklearn.linear_model import LogisticRegression\n"
      ]
    },
    {
      "cell_type": "code",
      "execution_count": null,
      "id": "5b830f41",
      "metadata": {
        "id": "5b830f41"
      },
      "outputs": [],
      "source": [
        "role=get_execution_role"
      ]
    },
    {
      "cell_type": "code",
      "execution_count": null,
      "id": "070a40a0",
      "metadata": {
        "id": "070a40a0"
      },
      "outputs": [],
      "source": [
        "prefix='sagemaker/Demo-churn-prediction'"
      ]
    },
    {
      "cell_type": "code",
      "execution_count": null,
      "id": "e6d147d9",
      "metadata": {
        "id": "e6d147d9"
      },
      "outputs": [],
      "source": [
        "my_region=boto3.session.Session().region_name"
      ]
    },
    {
      "cell_type": "code",
      "execution_count": null,
      "id": "5a125067",
      "metadata": {
        "id": "5a125067",
        "outputId": "82d661e1-baad-4d37-8394-791202a3dfcb"
      },
      "outputs": [
        {
          "name": "stdout",
          "output_type": "stream",
          "text": [
            "S3 error:  An error occurred (BucketAlreadyOwnedByYou) when calling the CreateBucket operation: Your previous request to create the named bucket succeeded and you already own it.\n"
          ]
        }
      ],
      "source": [
        "bucket_names = 'sagemaker-ap-southeast-1-337937410634' # <--- CHANGE THIS VARIABLE TO A UNIQUE NAME FOR YOUR BUCKET\n",
        "s3 = boto3.resource('s3')\n",
        "try:\n",
        "    if  my_region == 'us-east-1':\n",
        "      s3.create_bucket(Bucket=bucket_names)\n",
        "    else: \n",
        "      s3.create_bucket(Bucket=bucket_names, CreateBucketConfiguration={ 'LocationConstraint': my_region })\n",
        "    print('S3 bucket created successfully')\n",
        "except Exception as e:\n",
        "    print('S3 error: ',e)"
      ]
    },
    {
      "cell_type": "code",
      "execution_count": null,
      "id": "74f057c8",
      "metadata": {
        "id": "74f057c8",
        "outputId": "fd6cd876-d52c-4cb2-cbab-d3c618476f70"
      },
      "outputs": [
        {
          "name": "stdout",
          "output_type": "stream",
          "text": [
            "Success: downloaded churn.csv.\n",
            "Success: Data loaded into dataframe.\n"
          ]
        }
      ],
      "source": [
        "try:\n",
        "  urllib.request.urlretrieve (\"https://s3.console.aws.amazon.com/s3/object/sagemaker-ap-southeast-1-337937410634?region=ap-southeast-1&prefix=Churn+Modeling.csv\")\n",
        "  print('Success: downloaded churn.csv.')\n",
        "except Exception as e:\n",
        "  print('Data load error: ',e)\n",
        "\n",
        "try:\n",
        "  model_data = pd.read_csv('./Churn Modeling.csv',index_col=0)\n",
        "  print('Success: Data loaded into dataframe.')\n",
        "except Exception as e:\n",
        "    print('Data load error: ',e)"
      ]
    },
    {
      "cell_type": "code",
      "execution_count": null,
      "id": "00888695",
      "metadata": {
        "id": "00888695",
        "outputId": "4955c8e9-4799-455d-cd43-03ae2fcdb683"
      },
      "outputs": [
        {
          "data": {
            "text/html": [
              "<div>\n",
              "<style scoped>\n",
              "    .dataframe tbody tr th:only-of-type {\n",
              "        vertical-align: middle;\n",
              "    }\n",
              "\n",
              "    .dataframe tbody tr th {\n",
              "        vertical-align: top;\n",
              "    }\n",
              "\n",
              "    .dataframe thead th {\n",
              "        text-align: right;\n",
              "    }\n",
              "</style>\n",
              "<table border=\"1\" class=\"dataframe\">\n",
              "  <thead>\n",
              "    <tr style=\"text-align: right;\">\n",
              "      <th></th>\n",
              "      <th>CustomerId</th>\n",
              "      <th>Surname</th>\n",
              "      <th>CreditScore</th>\n",
              "      <th>Geography</th>\n",
              "      <th>Gender</th>\n",
              "      <th>Age</th>\n",
              "      <th>Tenure</th>\n",
              "      <th>Balance</th>\n",
              "      <th>NumOfProducts</th>\n",
              "      <th>HasCrCard</th>\n",
              "      <th>IsActiveMember</th>\n",
              "      <th>EstimatedSalary</th>\n",
              "      <th>Exited</th>\n",
              "    </tr>\n",
              "    <tr>\n",
              "      <th>RowNumber</th>\n",
              "      <th></th>\n",
              "      <th></th>\n",
              "      <th></th>\n",
              "      <th></th>\n",
              "      <th></th>\n",
              "      <th></th>\n",
              "      <th></th>\n",
              "      <th></th>\n",
              "      <th></th>\n",
              "      <th></th>\n",
              "      <th></th>\n",
              "      <th></th>\n",
              "      <th></th>\n",
              "    </tr>\n",
              "  </thead>\n",
              "  <tbody>\n",
              "    <tr>\n",
              "      <th>1</th>\n",
              "      <td>15634602</td>\n",
              "      <td>Hargrave</td>\n",
              "      <td>619</td>\n",
              "      <td>France</td>\n",
              "      <td>Female</td>\n",
              "      <td>42</td>\n",
              "      <td>2</td>\n",
              "      <td>0.00</td>\n",
              "      <td>1</td>\n",
              "      <td>1</td>\n",
              "      <td>1</td>\n",
              "      <td>101348.88</td>\n",
              "      <td>1</td>\n",
              "    </tr>\n",
              "    <tr>\n",
              "      <th>2</th>\n",
              "      <td>15647311</td>\n",
              "      <td>Hill</td>\n",
              "      <td>608</td>\n",
              "      <td>Spain</td>\n",
              "      <td>Female</td>\n",
              "      <td>41</td>\n",
              "      <td>1</td>\n",
              "      <td>83807.86</td>\n",
              "      <td>1</td>\n",
              "      <td>0</td>\n",
              "      <td>1</td>\n",
              "      <td>112542.58</td>\n",
              "      <td>0</td>\n",
              "    </tr>\n",
              "    <tr>\n",
              "      <th>3</th>\n",
              "      <td>15619304</td>\n",
              "      <td>Onio</td>\n",
              "      <td>502</td>\n",
              "      <td>France</td>\n",
              "      <td>Female</td>\n",
              "      <td>42</td>\n",
              "      <td>8</td>\n",
              "      <td>159660.80</td>\n",
              "      <td>3</td>\n",
              "      <td>1</td>\n",
              "      <td>0</td>\n",
              "      <td>113931.57</td>\n",
              "      <td>1</td>\n",
              "    </tr>\n",
              "    <tr>\n",
              "      <th>4</th>\n",
              "      <td>15701354</td>\n",
              "      <td>Boni</td>\n",
              "      <td>699</td>\n",
              "      <td>France</td>\n",
              "      <td>Female</td>\n",
              "      <td>39</td>\n",
              "      <td>1</td>\n",
              "      <td>0.00</td>\n",
              "      <td>2</td>\n",
              "      <td>0</td>\n",
              "      <td>0</td>\n",
              "      <td>93826.63</td>\n",
              "      <td>0</td>\n",
              "    </tr>\n",
              "    <tr>\n",
              "      <th>5</th>\n",
              "      <td>15737888</td>\n",
              "      <td>Mitchell</td>\n",
              "      <td>850</td>\n",
              "      <td>Spain</td>\n",
              "      <td>Female</td>\n",
              "      <td>43</td>\n",
              "      <td>2</td>\n",
              "      <td>125510.82</td>\n",
              "      <td>1</td>\n",
              "      <td>1</td>\n",
              "      <td>1</td>\n",
              "      <td>79084.10</td>\n",
              "      <td>0</td>\n",
              "    </tr>\n",
              "  </tbody>\n",
              "</table>\n",
              "</div>"
            ],
            "text/plain": [
              "           CustomerId   Surname  CreditScore Geography  Gender  Age  Tenure  \\\n",
              "RowNumber                                                                     \n",
              "1            15634602  Hargrave          619    France  Female   42       2   \n",
              "2            15647311      Hill          608     Spain  Female   41       1   \n",
              "3            15619304      Onio          502    France  Female   42       8   \n",
              "4            15701354      Boni          699    France  Female   39       1   \n",
              "5            15737888  Mitchell          850     Spain  Female   43       2   \n",
              "\n",
              "             Balance  NumOfProducts  HasCrCard  IsActiveMember  \\\n",
              "RowNumber                                                        \n",
              "1               0.00              1          1               1   \n",
              "2           83807.86              1          0               1   \n",
              "3          159660.80              3          1               0   \n",
              "4               0.00              2          0               0   \n",
              "5          125510.82              1          1               1   \n",
              "\n",
              "           EstimatedSalary  Exited  \n",
              "RowNumber                           \n",
              "1                101348.88       1  \n",
              "2                112542.58       0  \n",
              "3                113931.57       1  \n",
              "4                 93826.63       0  \n",
              "5                 79084.10       0  "
            ]
          },
          "execution_count": 168,
          "metadata": {},
          "output_type": "execute_result"
        }
      ],
      "source": [
        "model_data.head()"
      ]
    },
    {
      "cell_type": "code",
      "execution_count": null,
      "id": "efd9fc68",
      "metadata": {
        "id": "efd9fc68",
        "outputId": "8251aa5c-63e9-4a39-9a2c-6834ad187d77"
      },
      "outputs": [
        {
          "data": {
            "text/html": [
              "<div>\n",
              "<style scoped>\n",
              "    .dataframe tbody tr th:only-of-type {\n",
              "        vertical-align: middle;\n",
              "    }\n",
              "\n",
              "    .dataframe tbody tr th {\n",
              "        vertical-align: top;\n",
              "    }\n",
              "\n",
              "    .dataframe thead th {\n",
              "        text-align: right;\n",
              "    }\n",
              "</style>\n",
              "<table border=\"1\" class=\"dataframe\">\n",
              "  <thead>\n",
              "    <tr style=\"text-align: right;\">\n",
              "      <th></th>\n",
              "      <th>CustomerId</th>\n",
              "      <th>CreditScore</th>\n",
              "      <th>Age</th>\n",
              "      <th>Tenure</th>\n",
              "      <th>Balance</th>\n",
              "      <th>NumOfProducts</th>\n",
              "      <th>HasCrCard</th>\n",
              "      <th>IsActiveMember</th>\n",
              "      <th>EstimatedSalary</th>\n",
              "      <th>Exited</th>\n",
              "    </tr>\n",
              "  </thead>\n",
              "  <tbody>\n",
              "    <tr>\n",
              "      <th>count</th>\n",
              "      <td>1.000000e+04</td>\n",
              "      <td>10000.000000</td>\n",
              "      <td>10000.000000</td>\n",
              "      <td>10000.000000</td>\n",
              "      <td>10000.000000</td>\n",
              "      <td>10000.000000</td>\n",
              "      <td>10000.00000</td>\n",
              "      <td>10000.000000</td>\n",
              "      <td>10000.000000</td>\n",
              "      <td>10000.000000</td>\n",
              "    </tr>\n",
              "    <tr>\n",
              "      <th>mean</th>\n",
              "      <td>1.569094e+07</td>\n",
              "      <td>650.528800</td>\n",
              "      <td>38.921800</td>\n",
              "      <td>5.012800</td>\n",
              "      <td>76485.889288</td>\n",
              "      <td>1.530200</td>\n",
              "      <td>0.70550</td>\n",
              "      <td>0.515100</td>\n",
              "      <td>100090.239881</td>\n",
              "      <td>0.203700</td>\n",
              "    </tr>\n",
              "    <tr>\n",
              "      <th>std</th>\n",
              "      <td>7.193619e+04</td>\n",
              "      <td>96.653299</td>\n",
              "      <td>10.487806</td>\n",
              "      <td>2.892174</td>\n",
              "      <td>62397.405202</td>\n",
              "      <td>0.581654</td>\n",
              "      <td>0.45584</td>\n",
              "      <td>0.499797</td>\n",
              "      <td>57510.492818</td>\n",
              "      <td>0.402769</td>\n",
              "    </tr>\n",
              "    <tr>\n",
              "      <th>min</th>\n",
              "      <td>1.556570e+07</td>\n",
              "      <td>350.000000</td>\n",
              "      <td>18.000000</td>\n",
              "      <td>0.000000</td>\n",
              "      <td>0.000000</td>\n",
              "      <td>1.000000</td>\n",
              "      <td>0.00000</td>\n",
              "      <td>0.000000</td>\n",
              "      <td>11.580000</td>\n",
              "      <td>0.000000</td>\n",
              "    </tr>\n",
              "    <tr>\n",
              "      <th>25%</th>\n",
              "      <td>1.562853e+07</td>\n",
              "      <td>584.000000</td>\n",
              "      <td>32.000000</td>\n",
              "      <td>3.000000</td>\n",
              "      <td>0.000000</td>\n",
              "      <td>1.000000</td>\n",
              "      <td>0.00000</td>\n",
              "      <td>0.000000</td>\n",
              "      <td>51002.110000</td>\n",
              "      <td>0.000000</td>\n",
              "    </tr>\n",
              "    <tr>\n",
              "      <th>50%</th>\n",
              "      <td>1.569074e+07</td>\n",
              "      <td>652.000000</td>\n",
              "      <td>37.000000</td>\n",
              "      <td>5.000000</td>\n",
              "      <td>97198.540000</td>\n",
              "      <td>1.000000</td>\n",
              "      <td>1.00000</td>\n",
              "      <td>1.000000</td>\n",
              "      <td>100193.915000</td>\n",
              "      <td>0.000000</td>\n",
              "    </tr>\n",
              "    <tr>\n",
              "      <th>75%</th>\n",
              "      <td>1.575323e+07</td>\n",
              "      <td>718.000000</td>\n",
              "      <td>44.000000</td>\n",
              "      <td>7.000000</td>\n",
              "      <td>127644.240000</td>\n",
              "      <td>2.000000</td>\n",
              "      <td>1.00000</td>\n",
              "      <td>1.000000</td>\n",
              "      <td>149388.247500</td>\n",
              "      <td>0.000000</td>\n",
              "    </tr>\n",
              "    <tr>\n",
              "      <th>max</th>\n",
              "      <td>1.581569e+07</td>\n",
              "      <td>850.000000</td>\n",
              "      <td>92.000000</td>\n",
              "      <td>10.000000</td>\n",
              "      <td>250898.090000</td>\n",
              "      <td>4.000000</td>\n",
              "      <td>1.00000</td>\n",
              "      <td>1.000000</td>\n",
              "      <td>199992.480000</td>\n",
              "      <td>1.000000</td>\n",
              "    </tr>\n",
              "  </tbody>\n",
              "</table>\n",
              "</div>"
            ],
            "text/plain": [
              "         CustomerId   CreditScore           Age        Tenure        Balance  \\\n",
              "count  1.000000e+04  10000.000000  10000.000000  10000.000000   10000.000000   \n",
              "mean   1.569094e+07    650.528800     38.921800      5.012800   76485.889288   \n",
              "std    7.193619e+04     96.653299     10.487806      2.892174   62397.405202   \n",
              "min    1.556570e+07    350.000000     18.000000      0.000000       0.000000   \n",
              "25%    1.562853e+07    584.000000     32.000000      3.000000       0.000000   \n",
              "50%    1.569074e+07    652.000000     37.000000      5.000000   97198.540000   \n",
              "75%    1.575323e+07    718.000000     44.000000      7.000000  127644.240000   \n",
              "max    1.581569e+07    850.000000     92.000000     10.000000  250898.090000   \n",
              "\n",
              "       NumOfProducts    HasCrCard  IsActiveMember  EstimatedSalary  \\\n",
              "count   10000.000000  10000.00000    10000.000000     10000.000000   \n",
              "mean        1.530200      0.70550        0.515100    100090.239881   \n",
              "std         0.581654      0.45584        0.499797     57510.492818   \n",
              "min         1.000000      0.00000        0.000000        11.580000   \n",
              "25%         1.000000      0.00000        0.000000     51002.110000   \n",
              "50%         1.000000      1.00000        1.000000    100193.915000   \n",
              "75%         2.000000      1.00000        1.000000    149388.247500   \n",
              "max         4.000000      1.00000        1.000000    199992.480000   \n",
              "\n",
              "             Exited  \n",
              "count  10000.000000  \n",
              "mean       0.203700  \n",
              "std        0.402769  \n",
              "min        0.000000  \n",
              "25%        0.000000  \n",
              "50%        0.000000  \n",
              "75%        0.000000  \n",
              "max        1.000000  "
            ]
          },
          "execution_count": 169,
          "metadata": {},
          "output_type": "execute_result"
        }
      ],
      "source": [
        "model_data.describe()"
      ]
    },
    {
      "cell_type": "code",
      "execution_count": null,
      "id": "aeceba8b",
      "metadata": {
        "id": "aeceba8b",
        "outputId": "307013d5-843f-40e5-f95f-84e4425c16d1"
      },
      "outputs": [
        {
          "name": "stdout",
          "output_type": "stream",
          "text": [
            "<class 'pandas.core.frame.DataFrame'>\n",
            "Int64Index: 10000 entries, 1 to 10000\n",
            "Data columns (total 13 columns):\n",
            " #   Column           Non-Null Count  Dtype  \n",
            "---  ------           --------------  -----  \n",
            " 0   CustomerId       10000 non-null  int64  \n",
            " 1   Surname          10000 non-null  object \n",
            " 2   CreditScore      10000 non-null  int64  \n",
            " 3   Geography        10000 non-null  object \n",
            " 4   Gender           10000 non-null  object \n",
            " 5   Age              10000 non-null  int64  \n",
            " 6   Tenure           10000 non-null  int64  \n",
            " 7   Balance          10000 non-null  float64\n",
            " 8   NumOfProducts    10000 non-null  int64  \n",
            " 9   HasCrCard        10000 non-null  int64  \n",
            " 10  IsActiveMember   10000 non-null  int64  \n",
            " 11  EstimatedSalary  10000 non-null  float64\n",
            " 12  Exited           10000 non-null  int64  \n",
            "dtypes: float64(2), int64(8), object(3)\n",
            "memory usage: 1.1+ MB\n"
          ]
        }
      ],
      "source": [
        "model_data.info()"
      ]
    },
    {
      "cell_type": "code",
      "execution_count": null,
      "id": "8a9a211d",
      "metadata": {
        "id": "8a9a211d",
        "outputId": "e64e015f-a26e-43ad-d955-2d6fd92cacf7"
      },
      "outputs": [
        {
          "data": {
            "text/plain": [
              "(10000, 13)"
            ]
          },
          "execution_count": 29,
          "metadata": {},
          "output_type": "execute_result"
        }
      ],
      "source": [
        "model_data.shape"
      ]
    },
    {
      "cell_type": "code",
      "execution_count": null,
      "id": "4ccea5d0",
      "metadata": {
        "id": "4ccea5d0",
        "outputId": "f3cadbae-2b42-4eeb-a126-ad98f437331a"
      },
      "outputs": [
        {
          "data": {
            "text/plain": [
              "CustomerId         0\n",
              "Surname            0\n",
              "CreditScore        0\n",
              "Geography          0\n",
              "Gender             0\n",
              "Age                0\n",
              "Tenure             0\n",
              "Balance            0\n",
              "NumOfProducts      0\n",
              "HasCrCard          0\n",
              "IsActiveMember     0\n",
              "EstimatedSalary    0\n",
              "Exited             0\n",
              "dtype: int64"
            ]
          },
          "execution_count": 30,
          "metadata": {},
          "output_type": "execute_result"
        }
      ],
      "source": [
        "model_data.isna().sum()"
      ]
    },
    {
      "cell_type": "code",
      "execution_count": null,
      "id": "5c8a832d",
      "metadata": {
        "id": "5c8a832d",
        "outputId": "efd2d230-6c96-4b41-e533-02992c05844a"
      },
      "outputs": [
        {
          "data": {
            "text/plain": [
              "CustomerId         10000\n",
              "Surname             2932\n",
              "CreditScore          460\n",
              "Geography              3\n",
              "Gender                 2\n",
              "Age                   70\n",
              "Tenure                11\n",
              "Balance             6382\n",
              "NumOfProducts          4\n",
              "HasCrCard              2\n",
              "IsActiveMember         2\n",
              "EstimatedSalary     9999\n",
              "Exited                 2\n",
              "dtype: int64"
            ]
          },
          "execution_count": 31,
          "metadata": {},
          "output_type": "execute_result"
        }
      ],
      "source": [
        "model_data.nunique()"
      ]
    },
    {
      "cell_type": "code",
      "execution_count": null,
      "id": "e14ebf18",
      "metadata": {
        "id": "e14ebf18",
        "outputId": "ab071c84-db30-4082-9036-9ed91730b8b6"
      },
      "outputs": [
        {
          "data": {
            "text/plain": [
              "0    7963\n",
              "1    2037\n",
              "Name: Exited, dtype: int64"
            ]
          },
          "execution_count": 36,
          "metadata": {},
          "output_type": "execute_result"
        }
      ],
      "source": [
        "model_data['Exited'].value_counts()"
      ]
    },
    {
      "cell_type": "markdown",
      "source": [
        "##2. Data Visualization"
      ],
      "metadata": {
        "id": "hSe5QjGFivC_"
      },
      "id": "hSe5QjGFivC_"
    },
    {
      "cell_type": "code",
      "execution_count": null,
      "id": "6acec4b4",
      "metadata": {
        "id": "6acec4b4"
      },
      "outputs": [],
      "source": [
        "feature=['HasCrCard','NumOfProducts','Exited','IsActiveMember','Geography','Gender']"
      ]
    },
    {
      "cell_type": "code",
      "execution_count": null,
      "id": "1719d477",
      "metadata": {
        "id": "1719d477"
      },
      "outputs": [],
      "source": [
        "char=['Geography','Gender']"
      ]
    },
    {
      "cell_type": "code",
      "execution_count": null,
      "id": "4b6f5732",
      "metadata": {
        "id": "4b6f5732",
        "outputId": "15778c29-29fb-45f9-f8f5-4288811d5cfd"
      },
      "outputs": [
        {
          "data": {
            "image/png": "[encoded data removed]",
            "text/plain": [
              "<Figure size 1000x1000 with 6 Axes>"
            ]
          },
          "metadata": {},
          "output_type": "display_data"
        }
      ],
      "source": [
        "plt.figure(figsize=(10,10))\n",
        "for i in range(0,6):\n",
        "    plt.subplot(2,3,i+1)\n",
        "    sn.countplot(x=model_data[feature[i]], data=model_data)"
      ]
    },
    {
      "cell_type": "code",
      "execution_count": null,
      "id": "0ad86d8e",
      "metadata": {
        "id": "0ad86d8e",
        "outputId": "d4c788dc-3924-4ea1-85fa-d6fd04305ecb"
      },
      "outputs": [
        {
          "name": "stderr",
          "output_type": "stream",
          "text": [
            "/tmp/ipykernel_9070/3271494179.py:1: FutureWarning: The default value of numeric_only in DataFrame.corr is deprecated. In a future version, it will default to False. Select only valid columns or specify the value of numeric_only to silence this warning.\n",
            "  cors=model_data.corr()\n"
          ]
        }
      ],
      "source": [
        "cors=model_data.corr()"
      ]
    },
    {
      "cell_type": "code",
      "execution_count": null,
      "id": "e5285545",
      "metadata": {
        "id": "e5285545",
        "outputId": "d753d8db-e69d-4ef6-c859-11c5d60635f9"
      },
      "outputs": [
        {
          "data": {
            "text/plain": [
              "<AxesSubplot: >"
            ]
          },
          "execution_count": 63,
          "metadata": {},
          "output_type": "execute_result"
        },
        {
          "data": {
            "image/png": "[encoded data removed]",
            "text/plain": [
              "<Figure size 1000x1000 with 2 Axes>"
            ]
          },
          "metadata": {},
          "output_type": "display_data"
        }
      ],
      "source": [
        "plt.figure(figsize=(10,10))\n",
        "sn.heatmap(cors, annot=True)"
      ]
    },
    {
      "cell_type": "markdown",
      "source": [
        "##3. Data Preprocessing"
      ],
      "metadata": {
        "id": "lrAicBqYi2g8"
      },
      "id": "lrAicBqYi2g8"
    },
    {
      "cell_type": "code",
      "execution_count": null,
      "id": "12ee8817",
      "metadata": {
        "id": "12ee8817"
      },
      "outputs": [],
      "source": [
        "gen=pd.get_dummies(model_data['Gender'])\n",
        "geo=pd.get_dummies(model_data['Geography'])"
      ]
    },
    {
      "cell_type": "code",
      "execution_count": null,
      "id": "d0a507fe",
      "metadata": {
        "id": "d0a507fe"
      },
      "outputs": [],
      "source": [
        "dfs=pd.concat([model_data,gen,geo], axis=1)"
      ]
    },
    {
      "cell_type": "code",
      "execution_count": null,
      "id": "4cd5c313",
      "metadata": {
        "id": "4cd5c313"
      },
      "outputs": [],
      "source": [
        "dfs.drop(['Geography','Gender'], axis=1, inplace=True)"
      ]
    },
    {
      "cell_type": "code",
      "execution_count": null,
      "id": "6d3d379a",
      "metadata": {
        "id": "6d3d379a"
      },
      "outputs": [],
      "source": [
        "dfs.drop(['Surname','CustomerId'], axis=1, inplace=True)"
      ]
    },
    {
      "cell_type": "code",
      "execution_count": null,
      "id": "7655ed18",
      "metadata": {
        "id": "7655ed18",
        "outputId": "10df3f37-bb04-402f-c46a-fa14fd3a0f06"
      },
      "outputs": [
        {
          "data": {
            "text/html": [
              "<div>\n",
              "<style scoped>\n",
              "    .dataframe tbody tr th:only-of-type {\n",
              "        vertical-align: middle;\n",
              "    }\n",
              "\n",
              "    .dataframe tbody tr th {\n",
              "        vertical-align: top;\n",
              "    }\n",
              "\n",
              "    .dataframe thead th {\n",
              "        text-align: right;\n",
              "    }\n",
              "</style>\n",
              "<table border=\"1\" class=\"dataframe\">\n",
              "  <thead>\n",
              "    <tr style=\"text-align: right;\">\n",
              "      <th></th>\n",
              "      <th>CreditScore</th>\n",
              "      <th>Age</th>\n",
              "      <th>Tenure</th>\n",
              "      <th>Balance</th>\n",
              "      <th>NumOfProducts</th>\n",
              "      <th>HasCrCard</th>\n",
              "      <th>IsActiveMember</th>\n",
              "      <th>EstimatedSalary</th>\n",
              "      <th>Exited</th>\n",
              "      <th>Female</th>\n",
              "      <th>Male</th>\n",
              "      <th>France</th>\n",
              "      <th>Germany</th>\n",
              "      <th>Spain</th>\n",
              "    </tr>\n",
              "    <tr>\n",
              "      <th>RowNumber</th>\n",
              "      <th></th>\n",
              "      <th></th>\n",
              "      <th></th>\n",
              "      <th></th>\n",
              "      <th></th>\n",
              "      <th></th>\n",
              "      <th></th>\n",
              "      <th></th>\n",
              "      <th></th>\n",
              "      <th></th>\n",
              "      <th></th>\n",
              "      <th></th>\n",
              "      <th></th>\n",
              "      <th></th>\n",
              "    </tr>\n",
              "  </thead>\n",
              "  <tbody>\n",
              "    <tr>\n",
              "      <th>1</th>\n",
              "      <td>619</td>\n",
              "      <td>42</td>\n",
              "      <td>2</td>\n",
              "      <td>0.00</td>\n",
              "      <td>1</td>\n",
              "      <td>1</td>\n",
              "      <td>1</td>\n",
              "      <td>101348.88</td>\n",
              "      <td>1</td>\n",
              "      <td>1</td>\n",
              "      <td>0</td>\n",
              "      <td>1</td>\n",
              "      <td>0</td>\n",
              "      <td>0</td>\n",
              "    </tr>\n",
              "    <tr>\n",
              "      <th>2</th>\n",
              "      <td>608</td>\n",
              "      <td>41</td>\n",
              "      <td>1</td>\n",
              "      <td>83807.86</td>\n",
              "      <td>1</td>\n",
              "      <td>0</td>\n",
              "      <td>1</td>\n",
              "      <td>112542.58</td>\n",
              "      <td>0</td>\n",
              "      <td>1</td>\n",
              "      <td>0</td>\n",
              "      <td>0</td>\n",
              "      <td>0</td>\n",
              "      <td>1</td>\n",
              "    </tr>\n",
              "    <tr>\n",
              "      <th>3</th>\n",
              "      <td>502</td>\n",
              "      <td>42</td>\n",
              "      <td>8</td>\n",
              "      <td>159660.80</td>\n",
              "      <td>3</td>\n",
              "      <td>1</td>\n",
              "      <td>0</td>\n",
              "      <td>113931.57</td>\n",
              "      <td>1</td>\n",
              "      <td>1</td>\n",
              "      <td>0</td>\n",
              "      <td>1</td>\n",
              "      <td>0</td>\n",
              "      <td>0</td>\n",
              "    </tr>\n",
              "    <tr>\n",
              "      <th>4</th>\n",
              "      <td>699</td>\n",
              "      <td>39</td>\n",
              "      <td>1</td>\n",
              "      <td>0.00</td>\n",
              "      <td>2</td>\n",
              "      <td>0</td>\n",
              "      <td>0</td>\n",
              "      <td>93826.63</td>\n",
              "      <td>0</td>\n",
              "      <td>1</td>\n",
              "      <td>0</td>\n",
              "      <td>1</td>\n",
              "      <td>0</td>\n",
              "      <td>0</td>\n",
              "    </tr>\n",
              "    <tr>\n",
              "      <th>5</th>\n",
              "      <td>850</td>\n",
              "      <td>43</td>\n",
              "      <td>2</td>\n",
              "      <td>125510.82</td>\n",
              "      <td>1</td>\n",
              "      <td>1</td>\n",
              "      <td>1</td>\n",
              "      <td>79084.10</td>\n",
              "      <td>0</td>\n",
              "      <td>1</td>\n",
              "      <td>0</td>\n",
              "      <td>0</td>\n",
              "      <td>0</td>\n",
              "      <td>1</td>\n",
              "    </tr>\n",
              "  </tbody>\n",
              "</table>\n",
              "</div>"
            ],
            "text/plain": [
              "           CreditScore  Age  Tenure    Balance  NumOfProducts  HasCrCard  \\\n",
              "RowNumber                                                                  \n",
              "1                  619   42       2       0.00              1          1   \n",
              "2                  608   41       1   83807.86              1          0   \n",
              "3                  502   42       8  159660.80              3          1   \n",
              "4                  699   39       1       0.00              2          0   \n",
              "5                  850   43       2  125510.82              1          1   \n",
              "\n",
              "           IsActiveMember  EstimatedSalary  Exited  Female  Male  France  \\\n",
              "RowNumber                                                                  \n",
              "1                       1        101348.88       1       1     0       1   \n",
              "2                       1        112542.58       0       1     0       0   \n",
              "3                       0        113931.57       1       1     0       1   \n",
              "4                       0         93826.63       0       1     0       1   \n",
              "5                       1         79084.10       0       1     0       0   \n",
              "\n",
              "           Germany  Spain  \n",
              "RowNumber                  \n",
              "1                0      0  \n",
              "2                0      1  \n",
              "3                0      0  \n",
              "4                0      0  \n",
              "5                0      1  "
            ]
          },
          "execution_count": 174,
          "metadata": {},
          "output_type": "execute_result"
        }
      ],
      "source": [
        "dfs.head()"
      ]
    },
    {
      "cell_type": "markdown",
      "source": [
        "##4. Data modeling using 5 machine learning classifier model."
      ],
      "metadata": {
        "id": "91JSJNrbi7ZT"
      },
      "id": "91JSJNrbi7ZT"
    },
    {
      "cell_type": "code",
      "execution_count": null,
      "id": "f8b2898d",
      "metadata": {
        "id": "f8b2898d"
      },
      "outputs": [],
      "source": [
        "from sklearn.model_selection import train_test_split\n",
        "from sklearn.metrics import classification_report\n",
        "from sklearn.ensemble import RandomForestClassifier\n",
        "from sklearn.tree import DecisionTreeClassifier\n",
        "from sklearn.preprocessing import MinMaxScaler"
      ]
    },
    {
      "cell_type": "code",
      "execution_count": null,
      "id": "2be8ef6a",
      "metadata": {
        "id": "2be8ef6a"
      },
      "outputs": [],
      "source": [
        "x=dfs.drop(['Exited'],axis=1)\n",
        "y=dfs['Exited']"
      ]
    },
    {
      "cell_type": "code",
      "execution_count": null,
      "id": "810549e2",
      "metadata": {
        "id": "810549e2"
      },
      "outputs": [],
      "source": [
        "mm=MinMaxScaler()\n",
        "x_mm=mm.fit_transform(x)"
      ]
    },
    {
      "cell_type": "code",
      "execution_count": null,
      "id": "61f89f46",
      "metadata": {
        "id": "61f89f46"
      },
      "outputs": [],
      "source": [
        "xtrain,xtest,ytrain,ytest=train_test_split(x,y, test_size=0.3, random_state=10)"
      ]
    },
    {
      "cell_type": "code",
      "execution_count": null,
      "id": "b07d9a3d",
      "metadata": {
        "id": "b07d9a3d"
      },
      "outputs": [],
      "source": [
        "xtrain1,xtest1,ytrain1,ytest1=train_test_split(x_mm,y, test_size=0.3, random_state=10)"
      ]
    },
    {
      "cell_type": "code",
      "execution_count": null,
      "id": "1fca1250",
      "metadata": {
        "id": "1fca1250"
      },
      "outputs": [],
      "source": [
        "rf=RandomForestClassifier()\n",
        "dt=DecisionTreeClassifier()\n",
        "lr=LogisticRegression()\n",
        "ab=AdaBoostClassifier()\n",
        "gb=GradientBoostingClassifier()\n",
        "\n",
        "model_rf=rf.fit(xtrain,ytrain)\n",
        "model_dt=dt.fit(xtrain,ytrain)\n",
        "model_lr=lr.fit(xtrain,ytrain)\n",
        "model_ab=ab.fit(xtrain,ytrain)\n",
        "model_gb=gb.fit(xtrain,ytrain)\n",
        "\n",
        "\n",
        "model_rf_mm=rf.fit(xtrain1,ytrain1)\n",
        "model_dt_mm=dt.fit(xtrain1,ytrain1)\n",
        "model_lr_mm=lr.fit(xtrain1,ytrain1)\n",
        "model_ab_mm=ab.fit(xtrain1,ytrain1)\n",
        "model_gb_mm=gb.fit(xtrain1,ytrain1)\n"
      ]
    },
    {
      "cell_type": "code",
      "execution_count": null,
      "id": "77b88dab",
      "metadata": {
        "id": "77b88dab",
        "outputId": "3c396fb1-ad94-4271-d3a0-948584c19be5"
      },
      "outputs": [
        {
          "name": "stderr",
          "output_type": "stream",
          "text": [
            "/home/ec2-user/anaconda3/envs/python3/lib/python3.10/site-packages/sklearn/base.py:443: UserWarning: X has feature names, but RandomForestClassifier was fitted without feature names\n",
            "  warnings.warn(\n",
            "/home/ec2-user/anaconda3/envs/python3/lib/python3.10/site-packages/sklearn/base.py:443: UserWarning: X has feature names, but DecisionTreeClassifier was fitted without feature names\n",
            "  warnings.warn(\n",
            "/home/ec2-user/anaconda3/envs/python3/lib/python3.10/site-packages/sklearn/base.py:443: UserWarning: X has feature names, but LogisticRegression was fitted without feature names\n",
            "  warnings.warn(\n",
            "/home/ec2-user/anaconda3/envs/python3/lib/python3.10/site-packages/sklearn/base.py:443: UserWarning: X has feature names, but AdaBoostClassifier was fitted without feature names\n",
            "  warnings.warn(\n",
            "/home/ec2-user/anaconda3/envs/python3/lib/python3.10/site-packages/sklearn/base.py:443: UserWarning: X has feature names, but GradientBoostingClassifier was fitted without feature names\n",
            "  warnings.warn(\n"
          ]
        }
      ],
      "source": [
        "predict_rf=model_rf.predict(xtest)\n",
        "predict_dt=model_dt.predict(xtest)\n",
        "predict_lr=model_lr.predict(xtest)\n",
        "predict_ab=model_ab.predict(xtest)\n",
        "predict_gb=model_gb.predict(xtest)\n",
        "\n",
        "\n",
        "predict_rf_mm=model_rf_mm.predict(xtest1)\n",
        "predict_dt_mm=model_dt_mm.predict(xtest1)\n",
        "predict_lr_mm=model_lr_mm.predict(xtest1)\n",
        "predict_ab_mm=model_ab_mm.predict(xtest1)\n",
        "predict_gb_mm=model_gb_mm.predict(xtest1)\n"
      ]
    },
    {
      "cell_type": "code",
      "execution_count": null,
      "id": "a2f3e3cc",
      "metadata": {
        "id": "a2f3e3cc",
        "outputId": "19dc7817-f575-4ffd-976a-474c0d0a9186"
      },
      "outputs": [
        {
          "name": "stdout",
          "output_type": "stream",
          "text": [
            "Random Forest Score :\n",
            "              precision    recall  f1-score   support\n",
            "\n",
            "           0       0.91      0.03      0.06      2380\n",
            "           1       0.21      0.99      0.35       620\n",
            "\n",
            "    accuracy                           0.23      3000\n",
            "   macro avg       0.56      0.51      0.21      3000\n",
            "weighted avg       0.76      0.23      0.12      3000\n",
            "\n",
            "Decision Tree Score :\n",
            "              precision    recall  f1-score   support\n",
            "\n",
            "           0       0.85      0.55      0.67      2380\n",
            "           1       0.27      0.64      0.38       620\n",
            "\n",
            "    accuracy                           0.57      3000\n",
            "   macro avg       0.56      0.59      0.53      3000\n",
            "weighted avg       0.73      0.57      0.61      3000\n",
            "\n",
            "Logistic Regression Score :\n",
            "              precision    recall  f1-score   support\n",
            "\n",
            "           0       0.00      0.00      0.00      2380\n",
            "           1       0.21      1.00      0.34       620\n",
            "\n",
            "    accuracy                           0.21      3000\n",
            "   macro avg       0.10      0.50      0.17      3000\n",
            "weighted avg       0.04      0.21      0.07      3000\n",
            "\n",
            "Ada Boost Score :\n",
            "              precision    recall  f1-score   support\n",
            "\n",
            "           0       0.00      0.00      0.00      2380\n",
            "           1       0.21      1.00      0.34       620\n",
            "\n",
            "    accuracy                           0.21      3000\n",
            "   macro avg       0.10      0.50      0.17      3000\n",
            "weighted avg       0.04      0.21      0.07      3000\n",
            "\n",
            "Gradient Boosr Score :\n",
            "              precision    recall  f1-score   support\n",
            "\n",
            "           0       0.72      0.48      0.58      2380\n",
            "           1       0.13      0.29      0.18       620\n",
            "\n",
            "    accuracy                           0.44      3000\n",
            "   macro avg       0.43      0.39      0.38      3000\n",
            "weighted avg       0.60      0.44      0.50      3000\n",
            "\n"
          ]
        },
        {
          "name": "stderr",
          "output_type": "stream",
          "text": [
            "/home/ec2-user/anaconda3/envs/python3/lib/python3.10/site-packages/sklearn/metrics/_classification.py:1334: UndefinedMetricWarning: Precision and F-score are ill-defined and being set to 0.0 in labels with no predicted samples. Use `zero_division` parameter to control this behavior.\n",
            "  _warn_prf(average, modifier, msg_start, len(result))\n",
            "/home/ec2-user/anaconda3/envs/python3/lib/python3.10/site-packages/sklearn/metrics/_classification.py:1334: UndefinedMetricWarning: Precision and F-score are ill-defined and being set to 0.0 in labels with no predicted samples. Use `zero_division` parameter to control this behavior.\n",
            "  _warn_prf(average, modifier, msg_start, len(result))\n",
            "/home/ec2-user/anaconda3/envs/python3/lib/python3.10/site-packages/sklearn/metrics/_classification.py:1334: UndefinedMetricWarning: Precision and F-score are ill-defined and being set to 0.0 in labels with no predicted samples. Use `zero_division` parameter to control this behavior.\n",
            "  _warn_prf(average, modifier, msg_start, len(result))\n",
            "/home/ec2-user/anaconda3/envs/python3/lib/python3.10/site-packages/sklearn/metrics/_classification.py:1334: UndefinedMetricWarning: Precision and F-score are ill-defined and being set to 0.0 in labels with no predicted samples. Use `zero_division` parameter to control this behavior.\n",
            "  _warn_prf(average, modifier, msg_start, len(result))\n",
            "/home/ec2-user/anaconda3/envs/python3/lib/python3.10/site-packages/sklearn/metrics/_classification.py:1334: UndefinedMetricWarning: Precision and F-score are ill-defined and being set to 0.0 in labels with no predicted samples. Use `zero_division` parameter to control this behavior.\n",
            "  _warn_prf(average, modifier, msg_start, len(result))\n",
            "/home/ec2-user/anaconda3/envs/python3/lib/python3.10/site-packages/sklearn/metrics/_classification.py:1334: UndefinedMetricWarning: Precision and F-score are ill-defined and being set to 0.0 in labels with no predicted samples. Use `zero_division` parameter to control this behavior.\n",
            "  _warn_prf(average, modifier, msg_start, len(result))\n"
          ]
        }
      ],
      "source": [
        "print('Random Forest Score :')\n",
        "print(classification_report(ytest,predict_rf))\n",
        "print('Decision Tree Score :')\n",
        "print(classification_report(ytest,predict_dt))\n",
        "print('Logistic Regression Score :')\n",
        "print(classification_report(ytest,predict_lr))\n",
        "print('Ada Boost Score :')\n",
        "print(classification_report(ytest,predict_ab))\n",
        "print('Gradient Boosr Score :')\n",
        "print(classification_report(ytest,predict_gb))\n"
      ]
    },
    {
      "cell_type": "code",
      "execution_count": null,
      "id": "191efbec",
      "metadata": {
        "id": "191efbec",
        "outputId": "7660ec5c-51cc-48cf-ed94-d64e30de552e"
      },
      "outputs": [
        {
          "name": "stdout",
          "output_type": "stream",
          "text": [
            "Random Forest Score :\n",
            "              precision    recall  f1-score   support\n",
            "\n",
            "           0       0.87      0.96      0.91      2380\n",
            "           1       0.75      0.43      0.55       620\n",
            "\n",
            "    accuracy                           0.85      3000\n",
            "   macro avg       0.81      0.70      0.73      3000\n",
            "weighted avg       0.84      0.85      0.84      3000\n",
            "\n",
            "Decision Tree Score :\n",
            "              precision    recall  f1-score   support\n",
            "\n",
            "           0       0.87      0.86      0.87      2380\n",
            "           1       0.49      0.50      0.50       620\n",
            "\n",
            "    accuracy                           0.79      3000\n",
            "   macro avg       0.68      0.68      0.68      3000\n",
            "weighted avg       0.79      0.79      0.79      3000\n",
            "\n",
            "Logistic Regression Score :\n",
            "              precision    recall  f1-score   support\n",
            "\n",
            "           0       0.82      0.96      0.88      2380\n",
            "           1       0.56      0.20      0.29       620\n",
            "\n",
            "    accuracy                           0.80      3000\n",
            "   macro avg       0.69      0.58      0.59      3000\n",
            "weighted avg       0.77      0.80      0.76      3000\n",
            "\n",
            "Ada Boost Score :\n",
            "              precision    recall  f1-score   support\n",
            "\n",
            "           0       0.87      0.95      0.91      2380\n",
            "           1       0.71      0.48      0.57       620\n",
            "\n",
            "    accuracy                           0.85      3000\n",
            "   macro avg       0.79      0.71      0.74      3000\n",
            "weighted avg       0.84      0.85      0.84      3000\n",
            "\n",
            "Gradient Boosr Score :\n",
            "              precision    recall  f1-score   support\n",
            "\n",
            "           0       0.88      0.96      0.92      2380\n",
            "           1       0.78      0.47      0.59       620\n",
            "\n",
            "    accuracy                           0.86      3000\n",
            "   macro avg       0.83      0.72      0.75      3000\n",
            "weighted avg       0.86      0.86      0.85      3000\n",
            "\n"
          ]
        }
      ],
      "source": [
        "print('Random Forest Score :')\n",
        "print(classification_report(ytest1,predict_rf_mm))\n",
        "print('Decision Tree Score :')\n",
        "print(classification_report(ytest1,predict_dt_mm))\n",
        "print('Logistic Regression Score :')\n",
        "print(classification_report(ytest1,predict_lr_mm))\n",
        "print('Ada Boost Score :')\n",
        "print(classification_report(ytest1,predict_ab_mm))\n",
        "print('Gradient Boosr Score :')\n",
        "print(classification_report(ytest1,predict_gb_mm))\n"
      ]
    },
    {
      "cell_type": "markdown",
      "id": "e6b56727",
      "metadata": {
        "id": "e6b56727"
      },
      "source": [
        "As we can see, Gradient Boost using MinMax hits the highest score for overall performance score. Here we choose Gradient boost as our predictor model."
      ]
    },
    {
      "cell_type": "code",
      "execution_count": null,
      "id": "09309c56",
      "metadata": {
        "id": "09309c56",
        "outputId": "d96c5605-9e03-431c-c9b1-f0e95eb8d499"
      },
      "outputs": [
        {
          "name": "stdout",
          "output_type": "stream",
          "text": [
            "Customer  1 predict potential Retention\n",
            "Customer  2 predict Customer Churning\n",
            "Customer  3 predict potential Retention\n",
            "Customer  4 predict Customer Churning\n",
            "Customer  5 predict potential Retention\n",
            "Customer  6 predict potential Retention\n",
            "Customer  7 predict potential Retention\n",
            "Customer  8 predict potential Retention\n",
            "Customer  9 predict Customer Churning\n",
            "Customer  10 predict potential Retention\n"
          ]
        }
      ],
      "source": [
        "for i in range(0,10):\n",
        "    a=model_gb_mm.predict(xtest1[[i+1]])\n",
        "    if a==1:\n",
        "        print('Customer ',i+1, 'predict Customer Churning')\n",
        "    else :\n",
        "        print('Customer ',i+1, 'predict potential Retention')\n"
      ]
    }
  ],
  "metadata": {
    "kernelspec": {
      "display_name": "conda_python3",
      "language": "python",
      "name": "conda_python3"
    },
    "language_info": {
      "codemirror_mode": {
        "name": "ipython",
        "version": 3
      },
      "file_extension": ".py",
      "mimetype": "text/x-python",
      "name": "python",
      "nbconvert_exporter": "python",
      "pygments_lexer": "ipython3",
      "version": "3.10.6"
    },
    "colab": {
      "provenance": []
    }
  },
  "nbformat": 4,
  "nbformat_minor": 5
}